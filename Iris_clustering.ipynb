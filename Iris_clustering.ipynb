{
 "cells": [
  {
   "cell_type": "markdown",
   "metadata": {},
   "source": [
    "# Clustering-Data has morethan 2 features/coordinates"
   ]
  },
  {
   "cell_type": "code",
   "execution_count": 1,
   "metadata": {},
   "outputs": [],
   "source": [
    "import pandas as pd\n",
    "import numpy as np\n",
    "import matplotlib\n",
    "import matplotlib.pyplot as plt"
   ]
  },
  {
   "cell_type": "code",
   "execution_count": 2,
   "metadata": {},
   "outputs": [],
   "source": [
    "from sklearn import metrics\n",
    "from sklearn.cluster import KMeans\n",
    "import warnings\n",
    "warnings.filterwarnings(\"ignore\")"
   ]
  },
  {
   "cell_type": "markdown",
   "metadata": {},
   "source": [
    "# Exploring Data"
   ]
  },
  {
   "cell_type": "code",
   "execution_count": 3,
   "metadata": {},
   "outputs": [],
   "source": [
    "iris_df=pd.read_csv(\"C:\\\\Users\\\\admin\\\\Dropbox\\\\DS\\\\6.building-clustering-models-scikit-learn\\\\datasets\\\\iris.csv\",skiprows=1,\n",
    "                   names=['seplength','sepwidth','petlength','petwidth','class'])"
   ]
  },
  {
   "cell_type": "raw",
   "metadata": {},
   "source": [
    "#Read i/p csv file iris.csv stored in iris_df,skip the 1st row in csv file because we want to initialise names[seplength,petlenght,....,class] and use as header"
   ]
  },
  {
   "cell_type": "code",
   "execution_count": 4,
   "metadata": {},
   "outputs": [
    {
     "data": {
      "text/html": [
       "<div>\n",
       "<style scoped>\n",
       "    .dataframe tbody tr th:only-of-type {\n",
       "        vertical-align: middle;\n",
       "    }\n",
       "\n",
       "    .dataframe tbody tr th {\n",
       "        vertical-align: top;\n",
       "    }\n",
       "\n",
       "    .dataframe thead th {\n",
       "        text-align: right;\n",
       "    }\n",
       "</style>\n",
       "<table border=\"1\" class=\"dataframe\">\n",
       "  <thead>\n",
       "    <tr style=\"text-align: right;\">\n",
       "      <th></th>\n",
       "      <th>seplength</th>\n",
       "      <th>sepwidth</th>\n",
       "      <th>petlength</th>\n",
       "      <th>petwidth</th>\n",
       "      <th>class</th>\n",
       "    </tr>\n",
       "  </thead>\n",
       "  <tbody>\n",
       "    <tr>\n",
       "      <th>0</th>\n",
       "      <td>5.1</td>\n",
       "      <td>3.5</td>\n",
       "      <td>1.4</td>\n",
       "      <td>0.2</td>\n",
       "      <td>Iris-setosa</td>\n",
       "    </tr>\n",
       "    <tr>\n",
       "      <th>1</th>\n",
       "      <td>4.9</td>\n",
       "      <td>3.0</td>\n",
       "      <td>1.4</td>\n",
       "      <td>0.2</td>\n",
       "      <td>Iris-setosa</td>\n",
       "    </tr>\n",
       "    <tr>\n",
       "      <th>2</th>\n",
       "      <td>4.7</td>\n",
       "      <td>3.2</td>\n",
       "      <td>1.3</td>\n",
       "      <td>0.2</td>\n",
       "      <td>Iris-setosa</td>\n",
       "    </tr>\n",
       "    <tr>\n",
       "      <th>3</th>\n",
       "      <td>4.6</td>\n",
       "      <td>3.1</td>\n",
       "      <td>1.5</td>\n",
       "      <td>0.2</td>\n",
       "      <td>Iris-setosa</td>\n",
       "    </tr>\n",
       "    <tr>\n",
       "      <th>4</th>\n",
       "      <td>5.0</td>\n",
       "      <td>3.6</td>\n",
       "      <td>1.4</td>\n",
       "      <td>0.2</td>\n",
       "      <td>Iris-setosa</td>\n",
       "    </tr>\n",
       "  </tbody>\n",
       "</table>\n",
       "</div>"
      ],
      "text/plain": [
       "   seplength  sepwidth  petlength  petwidth        class\n",
       "0        5.1       3.5        1.4       0.2  Iris-setosa\n",
       "1        4.9       3.0        1.4       0.2  Iris-setosa\n",
       "2        4.7       3.2        1.3       0.2  Iris-setosa\n",
       "3        4.6       3.1        1.5       0.2  Iris-setosa\n",
       "4        5.0       3.6        1.4       0.2  Iris-setosa"
      ]
     },
     "execution_count": 4,
     "metadata": {},
     "output_type": "execute_result"
    }
   ],
   "source": [
    "iris_df.head()"
   ]
  },
  {
   "cell_type": "raw",
   "metadata": {},
   "source": [
    "#header cells(1st 5 rows) of iris_df.Names were assigned to the first row,and use it as header\n",
    "#seplenght,sepwidth,petlength,petwidth are features and class is o/p consists of 3 category labels"
   ]
  },
  {
   "cell_type": "code",
   "execution_count": 5,
   "metadata": {},
   "outputs": [],
   "source": [
    "iris_df=iris_df.sample(frac=1).reset_index(drop=True)"
   ]
  },
  {
   "cell_type": "raw",
   "metadata": {},
   "source": [
    "#Shuffle the dataframe using sample function, 1 represents get all records without fail,all of the rows corresponds to flower categories were jumbled up.reset_index(drop=True) drop the original index from pandas df,generate new indices"
   ]
  },
  {
   "cell_type": "code",
   "execution_count": 6,
   "metadata": {},
   "outputs": [
    {
     "data": {
      "text/html": [
       "<div>\n",
       "<style scoped>\n",
       "    .dataframe tbody tr th:only-of-type {\n",
       "        vertical-align: middle;\n",
       "    }\n",
       "\n",
       "    .dataframe tbody tr th {\n",
       "        vertical-align: top;\n",
       "    }\n",
       "\n",
       "    .dataframe thead th {\n",
       "        text-align: right;\n",
       "    }\n",
       "</style>\n",
       "<table border=\"1\" class=\"dataframe\">\n",
       "  <thead>\n",
       "    <tr style=\"text-align: right;\">\n",
       "      <th></th>\n",
       "      <th>seplength</th>\n",
       "      <th>sepwidth</th>\n",
       "      <th>petlength</th>\n",
       "      <th>petwidth</th>\n",
       "      <th>class</th>\n",
       "    </tr>\n",
       "  </thead>\n",
       "  <tbody>\n",
       "    <tr>\n",
       "      <th>0</th>\n",
       "      <td>5.0</td>\n",
       "      <td>3.2</td>\n",
       "      <td>1.2</td>\n",
       "      <td>0.2</td>\n",
       "      <td>Iris-setosa</td>\n",
       "    </tr>\n",
       "    <tr>\n",
       "      <th>1</th>\n",
       "      <td>5.4</td>\n",
       "      <td>3.4</td>\n",
       "      <td>1.7</td>\n",
       "      <td>0.2</td>\n",
       "      <td>Iris-setosa</td>\n",
       "    </tr>\n",
       "    <tr>\n",
       "      <th>2</th>\n",
       "      <td>6.6</td>\n",
       "      <td>2.9</td>\n",
       "      <td>4.6</td>\n",
       "      <td>1.3</td>\n",
       "      <td>Iris-versicolor</td>\n",
       "    </tr>\n",
       "    <tr>\n",
       "      <th>3</th>\n",
       "      <td>5.3</td>\n",
       "      <td>3.7</td>\n",
       "      <td>1.5</td>\n",
       "      <td>0.2</td>\n",
       "      <td>Iris-setosa</td>\n",
       "    </tr>\n",
       "    <tr>\n",
       "      <th>4</th>\n",
       "      <td>6.7</td>\n",
       "      <td>3.3</td>\n",
       "      <td>5.7</td>\n",
       "      <td>2.5</td>\n",
       "      <td>Iris-virginica</td>\n",
       "    </tr>\n",
       "  </tbody>\n",
       "</table>\n",
       "</div>"
      ],
      "text/plain": [
       "   seplength  sepwidth  petlength  petwidth            class\n",
       "0        5.0       3.2        1.2       0.2      Iris-setosa\n",
       "1        5.4       3.4        1.7       0.2      Iris-setosa\n",
       "2        6.6       2.9        4.6       1.3  Iris-versicolor\n",
       "3        5.3       3.7        1.5       0.2      Iris-setosa\n",
       "4        6.7       3.3        5.7       2.5   Iris-virginica"
      ]
     },
     "execution_count": 6,
     "metadata": {},
     "output_type": "execute_result"
    }
   ],
   "source": [
    "iris_df.head()"
   ]
  },
  {
   "cell_type": "raw",
   "metadata": {},
   "source": [
    "#Data frame gets shuffled class-irissetosa,virginica,versicolor"
   ]
  },
  {
   "cell_type": "code",
   "execution_count": 7,
   "metadata": {},
   "outputs": [
    {
     "data": {
      "text/plain": [
       "(150, 5)"
      ]
     },
     "execution_count": 7,
     "metadata": {},
     "output_type": "execute_result"
    }
   ],
   "source": [
    "iris_df.shape"
   ]
  },
  {
   "cell_type": "raw",
   "metadata": {},
   "source": [
    "#150 rows records,5 col-4 col was features,1 col is category/class/label"
   ]
  },
  {
   "cell_type": "code",
   "execution_count": 8,
   "metadata": {},
   "outputs": [
    {
     "data": {
      "text/plain": [
       "array(['Iris-setosa', 'Iris-versicolor', 'Iris-virginica'], dtype=object)"
      ]
     },
     "execution_count": 8,
     "metadata": {},
     "output_type": "execute_result"
    }
   ],
   "source": [
    "iris_df['class'].unique()"
   ]
  },
  {
   "cell_type": "raw",
   "metadata": {},
   "source": [
    "class column consists of 3 labels/categories using unique() get all 3 labels names"
   ]
  },
  {
   "cell_type": "markdown",
   "metadata": {},
   "source": [
    "# Preprocessing data"
   ]
  },
  {
   "cell_type": "code",
   "execution_count": 9,
   "metadata": {},
   "outputs": [
    {
     "data": {
      "text/html": [
       "<div>\n",
       "<style scoped>\n",
       "    .dataframe tbody tr th:only-of-type {\n",
       "        vertical-align: middle;\n",
       "    }\n",
       "\n",
       "    .dataframe tbody tr th {\n",
       "        vertical-align: top;\n",
       "    }\n",
       "\n",
       "    .dataframe thead th {\n",
       "        text-align: right;\n",
       "    }\n",
       "</style>\n",
       "<table border=\"1\" class=\"dataframe\">\n",
       "  <thead>\n",
       "    <tr style=\"text-align: right;\">\n",
       "      <th></th>\n",
       "      <th>seplength</th>\n",
       "      <th>sepwidth</th>\n",
       "      <th>petlength</th>\n",
       "      <th>petwidth</th>\n",
       "      <th>class</th>\n",
       "    </tr>\n",
       "  </thead>\n",
       "  <tbody>\n",
       "    <tr>\n",
       "      <th>0</th>\n",
       "      <td>5.0</td>\n",
       "      <td>3.2</td>\n",
       "      <td>1.2</td>\n",
       "      <td>0.2</td>\n",
       "      <td>0</td>\n",
       "    </tr>\n",
       "    <tr>\n",
       "      <th>1</th>\n",
       "      <td>5.4</td>\n",
       "      <td>3.4</td>\n",
       "      <td>1.7</td>\n",
       "      <td>0.2</td>\n",
       "      <td>0</td>\n",
       "    </tr>\n",
       "    <tr>\n",
       "      <th>2</th>\n",
       "      <td>6.6</td>\n",
       "      <td>2.9</td>\n",
       "      <td>4.6</td>\n",
       "      <td>1.3</td>\n",
       "      <td>1</td>\n",
       "    </tr>\n",
       "    <tr>\n",
       "      <th>3</th>\n",
       "      <td>5.3</td>\n",
       "      <td>3.7</td>\n",
       "      <td>1.5</td>\n",
       "      <td>0.2</td>\n",
       "      <td>0</td>\n",
       "    </tr>\n",
       "    <tr>\n",
       "      <th>4</th>\n",
       "      <td>6.7</td>\n",
       "      <td>3.3</td>\n",
       "      <td>5.7</td>\n",
       "      <td>2.5</td>\n",
       "      <td>2</td>\n",
       "    </tr>\n",
       "  </tbody>\n",
       "</table>\n",
       "</div>"
      ],
      "text/plain": [
       "   seplength  sepwidth  petlength  petwidth  class\n",
       "0        5.0       3.2        1.2       0.2      0\n",
       "1        5.4       3.4        1.7       0.2      0\n",
       "2        6.6       2.9        4.6       1.3      1\n",
       "3        5.3       3.7        1.5       0.2      0\n",
       "4        6.7       3.3        5.7       2.5      2"
      ]
     },
     "execution_count": 9,
     "metadata": {},
     "output_type": "execute_result"
    }
   ],
   "source": [
    "from sklearn import preprocessing\n",
    "label_encoding=preprocessing.LabelEncoder()\n",
    "iris_df['class']=label_encoding.fit_transform(iris_df['class'].astype(str))\n",
    "iris_df.head()"
   ]
  },
  {
   "cell_type": "raw",
   "metadata": {},
   "source": [
    "#Class col contains categories-Iris-setosa,Iris-virginica,Iris-versicolor converted to numeric int values.It is compulsory fonversion before use in ML algorithms if not in int values"
   ]
  },
  {
   "cell_type": "markdown",
   "metadata": {},
   "source": [
    "# Visualizing data frame into clusters"
   ]
  },
  {
   "cell_type": "code",
   "execution_count": 10,
   "metadata": {},
   "outputs": [
    {
     "data": {
      "text/plain": [
       "Text(0, 0.5, 'sepwidth')"
      ]
     },
     "execution_count": 10,
     "metadata": {},
     "output_type": "execute_result"
    },
    {
     "data": {
      "image/png": "[encoded data removed]",
      "text/plain": [
       "<Figure size 864x576 with 1 Axes>"
      ]
     },
     "metadata": {
      "needs_background": "light"
     },
     "output_type": "display_data"
    }
   ],
   "source": [
    "fig,ax=plt.subplots(figsize=(12,8))\n",
    "plt.scatter(iris_df['seplength'],iris_df['sepwidth'],s=250)\n",
    "plt.xlabel('seplength')\n",
    "plt.ylabel('sepwidth')"
   ]
  },
  {
   "cell_type": "raw",
   "metadata": {},
   "source": [
    "#Lets try cluster with 2 features seplength vs sepwidth, cluster is not obvious "
   ]
  },
  {
   "cell_type": "code",
   "execution_count": 11,
   "metadata": {},
   "outputs": [
    {
     "data": {
      "text/plain": [
       "Text(0, 0.5, 'petlength as y axis coordinate')"
      ]
     },
     "execution_count": 11,
     "metadata": {},
     "output_type": "execute_result"
    },
    {
     "data": {
      "image/png": "[encoded data removed]",
      "text/plain": [
       "<Figure size 864x576 with 1 Axes>"
      ]
     },
     "metadata": {
      "needs_background": "light"
     },
     "output_type": "display_data"
    }
   ],
   "source": [
    "fig,ax=plt.subplots(figsize=(12,8))\n",
    "plt.scatter(iris_df['petwidth'],iris_df['petlength'],s=250)\n",
    "plt.xlabel('petwidth as x axis coordinate')\n",
    "plt.ylabel('petlength as y axis coordinate')"
   ]
  },
  {
   "cell_type": "raw",
   "metadata": {},
   "source": [
    "#Plot Features petwidth vs petlength ,linearly increasing .Clustering was not good and obvious"
   ]
  },
  {
   "cell_type": "code",
   "execution_count": 12,
   "metadata": {},
   "outputs": [
    {
     "data": {
      "text/plain": [
       "Text(0, 0.5, 'petlength')"
      ]
     },
     "execution_count": 12,
     "metadata": {},
     "output_type": "execute_result"
    },
    {
     "data": {
      "image/png": "[encoded data removed]",
      "text/plain": [
       "<Figure size 864x576 with 1 Axes>"
      ]
     },
     "metadata": {
      "needs_background": "light"
     },
     "output_type": "display_data"
    }
   ],
   "source": [
    "fig,ax=plt.subplots(figsize=(12,8))\n",
    "plt.scatter(iris_df['seplength'],iris_df['petlength'],s=250)\n",
    "plt.xlabel('seplength')\n",
    "plt.ylabel('petlength')"
   ]
  },
  {
   "cell_type": "raw",
   "metadata": {},
   "source": [
    "#Above plot visualize found some groups might be used for clustering."
   ]
  },
  {
   "cell_type": "markdown",
   "metadata": {},
   "source": [
    "# Perform KMeans Clustering"
   ]
  },
  {
   "cell_type": "code",
   "execution_count": 13,
   "metadata": {},
   "outputs": [
    {
     "data": {
      "text/html": [
       "<div>\n",
       "<style scoped>\n",
       "    .dataframe tbody tr th:only-of-type {\n",
       "        vertical-align: middle;\n",
       "    }\n",
       "\n",
       "    .dataframe tbody tr th {\n",
       "        vertical-align: top;\n",
       "    }\n",
       "\n",
       "    .dataframe thead th {\n",
       "        text-align: right;\n",
       "    }\n",
       "</style>\n",
       "<table border=\"1\" class=\"dataframe\">\n",
       "  <thead>\n",
       "    <tr style=\"text-align: right;\">\n",
       "      <th></th>\n",
       "      <th>seplength</th>\n",
       "      <th>petlength</th>\n",
       "    </tr>\n",
       "  </thead>\n",
       "  <tbody>\n",
       "    <tr>\n",
       "      <th>40</th>\n",
       "      <td>5.6</td>\n",
       "      <td>4.1</td>\n",
       "    </tr>\n",
       "    <tr>\n",
       "      <th>33</th>\n",
       "      <td>4.9</td>\n",
       "      <td>1.5</td>\n",
       "    </tr>\n",
       "    <tr>\n",
       "      <th>38</th>\n",
       "      <td>5.7</td>\n",
       "      <td>1.7</td>\n",
       "    </tr>\n",
       "    <tr>\n",
       "      <th>93</th>\n",
       "      <td>4.9</td>\n",
       "      <td>4.5</td>\n",
       "    </tr>\n",
       "    <tr>\n",
       "      <th>131</th>\n",
       "      <td>5.5</td>\n",
       "      <td>4.0</td>\n",
       "    </tr>\n",
       "  </tbody>\n",
       "</table>\n",
       "</div>"
      ],
      "text/plain": [
       "     seplength  petlength\n",
       "40         5.6        4.1\n",
       "33         4.9        1.5\n",
       "38         5.7        1.7\n",
       "93         4.9        4.5\n",
       "131        5.5        4.0"
      ]
     },
     "execution_count": 13,
     "metadata": {},
     "output_type": "execute_result"
    }
   ],
   "source": [
    "iris_df_2D=iris_df[['seplength','petlength']]\n",
    "iris_df_2D.sample(5)"
   ]
  },
  {
   "cell_type": "raw",
   "metadata": {},
   "source": [
    "#Lets take 2 features as i/p for 2D array seplength as x axis coordinate,petlength as y axis coordinate. Above results are samples of df stored in iris_df_2D"
   ]
  },
  {
   "cell_type": "code",
   "execution_count": 14,
   "metadata": {},
   "outputs": [
    {
     "data": {
      "text/plain": [
       "(150, 2)"
      ]
     },
     "execution_count": 14,
     "metadata": {},
     "output_type": "execute_result"
    }
   ],
   "source": [
    "iris_df_2D.shape"
   ]
  },
  {
   "cell_type": "raw",
   "metadata": {},
   "source": [
    "#150 row records, 2col was feature i/p's"
   ]
  },
  {
   "cell_type": "code",
   "execution_count": 15,
   "metadata": {},
   "outputs": [],
   "source": [
    "iris_df_2D=np.array(iris_df_2D)"
   ]
  },
  {
   "cell_type": "raw",
   "metadata": {},
   "source": [
    "#Convert df into array before pass into kmeans estimator"
   ]
  },
  {
   "cell_type": "markdown",
   "metadata": {},
   "source": [
    "# Train KMeans estimator"
   ]
  },
  {
   "cell_type": "code",
   "execution_count": 16,
   "metadata": {},
   "outputs": [
    {
     "data": {
      "text/plain": [
       "KMeans(algorithm='auto', copy_x=True, init='k-means++', max_iter=10000,\n",
       "       n_clusters=3, n_init=10, n_jobs=None, precompute_distances='auto',\n",
       "       random_state=None, tol=0.0001, verbose=0)"
      ]
     },
     "execution_count": 16,
     "metadata": {},
     "output_type": "execute_result"
    }
   ],
   "source": [
    "kmodel=KMeans(n_clusters=3,max_iter=10000)\n",
    "kmodel.fit(iris_df_2D)"
   ]
  },
  {
   "cell_type": "raw",
   "metadata": {},
   "source": [
    "#Pass i/p df consists of 2 features (2D array) into fit model"
   ]
  },
  {
   "cell_type": "code",
   "execution_count": 17,
   "metadata": {},
   "outputs": [
    {
     "data": {
      "text/plain": [
       "array([0, 0, 2, 0, 1, 0, 0, 0, 1, 1, 0, 2, 2, 2, 0, 2, 2, 1, 0, 2, 1, 0,\n",
       "       1, 0, 0, 1, 0, 0, 0, 0, 0, 1, 1, 0, 2, 0, 1, 2, 0, 0, 2, 2, 2, 2,\n",
       "       1, 2, 2, 2, 1, 0, 1, 0, 1, 1, 0, 2, 2, 2, 0, 1, 1, 1, 2, 0, 1, 2,\n",
       "       1, 1, 1, 1, 1, 2, 2, 2, 0, 2, 2, 2, 1, 2, 2, 0, 2, 2, 0, 2, 1, 0,\n",
       "       0, 2, 2, 1, 2, 2, 0, 2, 1, 0, 2, 1, 2, 1, 1, 1, 2, 2, 1, 0, 0, 2,\n",
       "       2, 0, 0, 2, 2, 1, 1, 2, 2, 0, 0, 1, 0, 1, 0, 1, 2, 2, 2, 2, 2, 2,\n",
       "       0, 2, 1, 2, 0, 1, 0, 0, 1, 2, 2, 0, 0, 0, 0, 0, 0, 2])"
      ]
     },
     "execution_count": 17,
     "metadata": {},
     "output_type": "execute_result"
    }
   ],
   "source": [
    "kmodel.labels_"
   ]
  },
  {
   "cell_type": "raw",
   "metadata": {},
   "source": [
    "#kmeans estimator generated clusters in the underlying data,it will assign labels to every data points dpend on which clusters belong to.\n",
    "#Labels assigned by kmeans estimator may not match actual labels already assign in original df.Remember these labels are represent clusters"
   ]
  },
  {
   "cell_type": "markdown",
   "metadata": {},
   "source": [
    "# Centroids/cluster centers set up ny kmeans object"
   ]
  },
  {
   "cell_type": "code",
   "execution_count": 18,
   "metadata": {},
   "outputs": [
    {
     "data": {
      "text/plain": [
       "array([[5.00784314, 1.49411765],\n",
       "       [6.83902439, 5.67804878],\n",
       "       [5.87413793, 4.39310345]])"
      ]
     },
     "execution_count": 18,
     "metadata": {},
     "output_type": "execute_result"
    }
   ],
   "source": [
    "centroids_2D=kmodel.cluster_centers_\n",
    "centroids_2D"
   ]
  },
  {
   "cell_type": "raw",
   "metadata": {},
   "source": [
    "#Centers/centroids of 3 clusters into which it divide our data\n",
    "#These are coordinates of cluster centers- i/p seplength as x axis coordinate,petlength as y axis coordinate"
   ]
  },
  {
   "cell_type": "code",
   "execution_count": 19,
   "metadata": {},
   "outputs": [
    {
     "data": {
      "image/png": "[encoded data removed]",
      "text/plain": [
       "<Figure size 864x576 with 1 Axes>"
      ]
     },
     "metadata": {
      "needs_background": "light"
     },
     "output_type": "display_data"
    }
   ],
   "source": [
    "fig,ax=plt.subplots(figsize=(12,8))\n",
    "#Plot the centroids of 3 clusters(get coordinate points from centroids_2D) using scatter plot centroids[;,0]as x axis,[:,1]as y axis\n",
    "plt.scatter(centroids_2D[:,0],centroids_2D[:,1],c='red',s=250)\n",
    "\n",
    "#(Annotate the labels from Kmeans model)Labels generated by kmeans are plotted for centroids of 3 clusters \n",
    "for i in range(len(centroids_2D)):\n",
    "    plt.annotate(i,(centroids_2D[i][0],centroids_2D[i][1]),fontsize=30)"
   ]
  },
  {
   "cell_type": "raw",
   "metadata": {},
   "source": [
    "#Here is plot of 3 cluster centroid clearly annotate with labels"
   ]
  },
  {
   "cell_type": "markdown",
   "metadata": {},
   "source": [
    "# Evaluate the performance of clustering using scores"
   ]
  },
  {
   "cell_type": "raw",
   "metadata": {},
   "source": [
    "iris_df['class'] is actual labels of original df  , kmodel.labels_  is labels generated by kmeans model for clustering,  iris_df_2D is converted df(2 features only) into 2D array."
   ]
  },
  {
   "cell_type": "code",
   "execution_count": 20,
   "metadata": {},
   "outputs": [
    {
     "name": "stdout",
     "output_type": "stream",
     "text": [
      "Homogeneity score is:  0.7033177646052958\n",
      "Completeness score is:  0.7096993707802843\n",
      "V measure score is:  0.706494157075837\n",
      "adjusted random score is:  0.6988627672348092\n",
      "adjusted mutual info score is:  0.6996030957074747\n",
      "silhouette score is:  0.5890612474062568\n"
     ]
    }
   ],
   "source": [
    "print(\"Homogeneity score is: \",metrics.homogeneity_score(iris_df['class'],kmodel.labels_))\n",
    "print(\"Completeness score is: \",metrics.completeness_score(iris_df['class'],kmodel.labels_))\n",
    "print(\"V measure score is: \",metrics.v_measure_score(iris_df['class'],kmodel.labels_))\n",
    "print(\"adjusted random score is: \",metrics.adjusted_rand_score(iris_df['class'],kmodel.labels_))\n",
    "print(\"adjusted mutual info score is: \",metrics.adjusted_mutual_info_score(iris_df['class'],kmodel.labels_))\n",
    "print(\"silhouette score is: \",metrics.silhouette_score(iris_df_2D,kmodel.labels_))"
   ]
  },
  {
   "cell_type": "raw",
   "metadata": {},
   "source": [
    "#These are scores  comparing actual clusters vs Clusters predicted by kmeans.\n",
    "#Silhouette score doesnot need actual labels of original df,instead pass converted 2D array of original df\n",
    "#Based on distance of points in 1 cluster are close to other points in same cluster.Fare away from points in other cluster.\n"
   ]
  },
  {
   "cell_type": "markdown",
   "metadata": {},
   "source": [
    "# Visualize original data points,original flower category(class/labels),cluster centroid  in single plot"
   ]
  },
  {
   "cell_type": "code",
   "execution_count": 21,
   "metadata": {},
   "outputs": [
    {
     "data": {
      "image/png": "[encoded data removed]",
      "text/plain": [
       "<Figure size 864x576 with 1 Axes>"
      ]
     },
     "metadata": {
      "needs_background": "light"
     },
     "output_type": "display_data"
    }
   ],
   "source": [
    "colors=['yellow','blue','green']\n",
    "plt.figure(figsize=(12,8))\n",
    "\n",
    "#Plot original data points with above colors,based on iris flower category(iris_df['class']) x axis-seplength,y axis-petlength\n",
    "plt.scatter(iris_df['seplength'],iris_df['petlength'],c=iris_df['class'],s=200,\n",
    "           cmap=matplotlib.colors.ListedColormap(colors),alpha=0.5)\n",
    "\n",
    "#Mark the clusters centroid by kmeans with sq red box\n",
    "plt.scatter(centroids_2D[:,0],centroids_2D[:,1],c='r',s=250,marker='s')\n",
    "\n",
    "#Annotated scatter plot of centroid associated with predicted labels that kmeans model found\n",
    "for i in range(len(centroids_2D)):\n",
    "    plt.annotate(i,(centroids_2D[i][0],centroids_2D[i][0]),fontsize=30)\n",
    "\n",
    "\n"
   ]
  },
  {
   "cell_type": "markdown",
   "metadata": {},
   "source": [
    "# Perform Kmean clustering with all 4 features\n",
    "\n"
   ]
  },
  {
   "cell_type": "markdown",
   "metadata": {},
   "source": [
    "# 1. Store only features(4) in iris_features. Drop class column"
   ]
  },
  {
   "cell_type": "code",
   "execution_count": 25,
   "metadata": {},
   "outputs": [
    {
     "data": {
      "text/html": [
       "<div>\n",
       "<style scoped>\n",
       "    .dataframe tbody tr th:only-of-type {\n",
       "        vertical-align: middle;\n",
       "    }\n",
       "\n",
       "    .dataframe tbody tr th {\n",
       "        vertical-align: top;\n",
       "    }\n",
       "\n",
       "    .dataframe thead th {\n",
       "        text-align: right;\n",
       "    }\n",
       "</style>\n",
       "<table border=\"1\" class=\"dataframe\">\n",
       "  <thead>\n",
       "    <tr style=\"text-align: right;\">\n",
       "      <th></th>\n",
       "      <th>seplength</th>\n",
       "      <th>sepwidth</th>\n",
       "      <th>petlength</th>\n",
       "      <th>petwidth</th>\n",
       "    </tr>\n",
       "  </thead>\n",
       "  <tbody>\n",
       "    <tr>\n",
       "      <th>141</th>\n",
       "      <td>5.8</td>\n",
       "      <td>2.6</td>\n",
       "      <td>4.0</td>\n",
       "      <td>1.2</td>\n",
       "    </tr>\n",
       "    <tr>\n",
       "      <th>116</th>\n",
       "      <td>6.4</td>\n",
       "      <td>2.7</td>\n",
       "      <td>5.3</td>\n",
       "      <td>1.9</td>\n",
       "    </tr>\n",
       "    <tr>\n",
       "      <th>106</th>\n",
       "      <td>7.7</td>\n",
       "      <td>3.0</td>\n",
       "      <td>6.1</td>\n",
       "      <td>2.3</td>\n",
       "    </tr>\n",
       "    <tr>\n",
       "      <th>23</th>\n",
       "      <td>5.1</td>\n",
       "      <td>3.8</td>\n",
       "      <td>1.6</td>\n",
       "      <td>0.2</td>\n",
       "    </tr>\n",
       "    <tr>\n",
       "      <th>28</th>\n",
       "      <td>5.2</td>\n",
       "      <td>3.4</td>\n",
       "      <td>1.4</td>\n",
       "      <td>0.2</td>\n",
       "    </tr>\n",
       "  </tbody>\n",
       "</table>\n",
       "</div>"
      ],
      "text/plain": [
       "     seplength  sepwidth  petlength  petwidth\n",
       "141        5.8       2.6        4.0       1.2\n",
       "116        6.4       2.7        5.3       1.9\n",
       "106        7.7       3.0        6.1       2.3\n",
       "23         5.1       3.8        1.6       0.2\n",
       "28         5.2       3.4        1.4       0.2"
      ]
     },
     "execution_count": 25,
     "metadata": {},
     "output_type": "execute_result"
    }
   ],
   "source": [
    "iris_features=iris_df.drop('class',axis=1)\n",
    "iris_features.sample(5)"
   ]
  },
  {
   "cell_type": "markdown",
   "metadata": {},
   "source": [
    "# 2.Store class separately in iris_labels "
   ]
  },
  {
   "cell_type": "code",
   "execution_count": 28,
   "metadata": {},
   "outputs": [
    {
     "data": {
      "text/plain": [
       "143    0\n",
       "7      0\n",
       "39     0\n",
       "13     1\n",
       "70     2\n",
       "Name: class, dtype: int32"
      ]
     },
     "execution_count": 28,
     "metadata": {},
     "output_type": "execute_result"
    }
   ],
   "source": [
    "iris_labels=iris_df['class']\n",
    "iris_labels.sample(5)"
   ]
  },
  {
   "cell_type": "markdown",
   "metadata": {},
   "source": [
    "# 3.Train KMeans Estimator"
   ]
  },
  {
   "cell_type": "code",
   "execution_count": 29,
   "metadata": {},
   "outputs": [
    {
     "data": {
      "text/plain": [
       "KMeans(algorithm='auto', copy_x=True, init='k-means++', max_iter=10000,\n",
       "       n_clusters=3, n_init=10, n_jobs=None, precompute_distances='auto',\n",
       "       random_state=None, tol=0.0001, verbose=0)"
      ]
     },
     "execution_count": 29,
     "metadata": {},
     "output_type": "execute_result"
    }
   ],
   "source": [
    "kmodel=KMeans(n_clusters=3,max_iter=10000)\n",
    "kmodel.fit(iris_features)"
   ]
  },
  {
   "cell_type": "markdown",
   "metadata": {},
   "source": [
    "# 4.O/P Result Label from KMean"
   ]
  },
  {
   "cell_type": "code",
   "execution_count": 37,
   "metadata": {},
   "outputs": [
    {
     "data": {
      "text/plain": [
       "array([0, 0, 1, 0, 2, 0, 0, 0, 2, 2, 0, 1, 1, 1, 0, 1, 1, 1, 0, 1, 2, 0,\n",
       "       2, 0, 0, 2, 0, 0, 0, 0, 0, 2, 2, 0, 1, 0, 2, 1, 0, 0, 1, 1, 1, 1,\n",
       "       2, 1, 1, 1, 2, 0, 1, 0, 2, 2, 0, 1, 1, 1, 0, 1, 2, 2, 1, 0, 2, 1,\n",
       "       2, 2, 2, 2, 2, 1, 1, 1, 0, 1, 1, 1, 2, 1, 1, 0, 1, 1, 0, 1, 2, 0,\n",
       "       0, 1, 1, 2, 1, 1, 0, 1, 2, 0, 1, 2, 1, 2, 2, 2, 1, 1, 2, 0, 0, 1,\n",
       "       1, 0, 0, 1, 1, 2, 2, 1, 1, 0, 0, 2, 0, 2, 1, 2, 1, 1, 1, 1, 1, 1,\n",
       "       0, 1, 2, 1, 0, 2, 0, 0, 2, 1, 1, 0, 0, 0, 0, 0, 0, 1])"
      ]
     },
     "execution_count": 37,
     "metadata": {},
     "output_type": "execute_result"
    }
   ],
   "source": [
    "train_labels=kmodel.labels_\n",
    "train_labels"
   ]
  },
  {
   "cell_type": "raw",
   "metadata": {},
   "source": [
    "#store the result in train_labels"
   ]
  },
  {
   "cell_type": "markdown",
   "metadata": {},
   "source": [
    "# 5.Cluster centers/centroids"
   ]
  },
  {
   "cell_type": "code",
   "execution_count": 34,
   "metadata": {},
   "outputs": [
    {
     "data": {
      "text/plain": [
       "array([[5.006     , 3.418     , 1.464     , 0.244     ],\n",
       "       [5.9016129 , 2.7483871 , 4.39354839, 1.43387097],\n",
       "       [6.85      , 3.07368421, 5.74210526, 2.07105263]])"
      ]
     },
     "execution_count": 34,
     "metadata": {},
     "output_type": "execute_result"
    }
   ],
   "source": [
    "kmodel.cluster_centers_"
   ]
  },
  {
   "cell_type": "raw",
   "metadata": {},
   "source": [
    "#Centers/centroids of 3 clusters into which it divide our data\n",
    "#These are coordinates of cluster centers- i/p all 4 features stored in iris_features"
   ]
  },
  {
   "cell_type": "markdown",
   "metadata": {},
   "source": [
    "# 6.Evaluate the performance of clustering using scores"
   ]
  },
  {
   "cell_type": "code",
   "execution_count": 38,
   "metadata": {},
   "outputs": [
    {
     "name": "stdout",
     "output_type": "stream",
     "text": [
      "Homogeneity score is:  0.7514854021988338\n",
      "completeness score is:  0.7649861514489815\n",
      "V measure score is:  0.7581756800057784\n",
      "Adjusted random score is:  0.7302382722834697\n",
      "Adjusted mutual info is:  0.7483723933229484\n",
      "silhouette score is:  0.5525919445499755\n"
     ]
    }
   ],
   "source": [
    "print(\"Homogeneity score is: \",metrics.homogeneity_score(iris_labels,train_labels))\n",
    "print(\"completeness score is: \",metrics.completeness_score(iris_labels,train_labels))\n",
    "print(\"V measure score is: \",metrics.v_measure_score(iris_labels,train_labels))\n",
    "print(\"Adjusted random score is: \",metrics.adjusted_rand_score(iris_labels,train_labels))\n",
    "print(\"Adjusted mutual info is: \",metrics.adjusted_mutual_info_score(iris_labels,train_labels))\n",
    "print(\"silhouette score is: \",metrics.silhouette_score(iris_features,train_labels))"
   ]
  },
  {
   "cell_type": "code",
   "execution_count": null,
   "metadata": {},
   "outputs": [],
   "source": []
  }
 ],
 "metadata": {
  "kernelspec": {
   "display_name": "Python 3",
   "language": "python",
   "name": "python3"
  },
  "language_info": {
   "codemirror_mode": {
    "name": "ipython",
    "version": 3
   },
   "file_extension": ".py",
   "mimetype": "text/x-python",
   "name": "python",
   "nbconvert_exporter": "python",
   "pygments_lexer": "ipython3",
   "version": "3.7.2"
  }
 },
 "nbformat": 4,
 "nbformat_minor": 2
}
