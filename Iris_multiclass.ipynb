{
 "cells": [
  {
   "cell_type": "code",
   "execution_count": 1,
   "metadata": {},
   "outputs": [],
   "source": [
    "import pandas as pd\n",
    "import matplotlib.pyplot as plt\n",
    "import numpy as np\n"
   ]
  },
  {
   "cell_type": "markdown",
   "metadata": {},
   "source": [
    "# Clustering technique algorithm Libraries"
   ]
  },
  {
   "cell_type": "code",
   "execution_count": 2,
   "metadata": {},
   "outputs": [],
   "source": [
    "from sklearn import metrics\n",
    "#Centroid based cluster\n",
    "from sklearn.cluster import KMeans\n",
    "#Hierarchical amximum connectivity,tree based cluster\n",
    "from sklearn.cluster import AgglomerativeClustering\n",
    "from sklearn.cluster import Birch\n",
    "#Density based cluster\n",
    "from sklearn.cluster import DBSCAN\n",
    "from sklearn.cluster import MeanShift\n",
    "from sklearn.cluster import AffinityPropagation\n",
    "#Improve the performance of KMeans clustering\n",
    "from sklearn.cluster import MiniBatchKMeans\n",
    "\n",
    "import warnings\n",
    "warnings.filterwarnings(\"ignore\")\n"
   ]
  },
  {
   "cell_type": "markdown",
   "metadata": {},
   "source": [
    "# Exploring Data"
   ]
  },
  {
   "cell_type": "code",
   "execution_count": 3,
   "metadata": {},
   "outputs": [],
   "source": [
    "iris_df=pd.read_csv(\"C:\\\\Users\\\\admin\\\\Dropbox\\\\DS\\\\6.building-clustering-models-scikit-learn\\\\datasets\\\\iris.csv\",skiprows=1,\n",
    "                   names=['seplength','sepwidth','petlength','petwidth','class'])"
   ]
  },
  {
   "cell_type": "raw",
   "metadata": {},
   "source": [
    "#Read i/p csv file iris.csv stored in iris_df,skip the 1st row in csv file because we want to initialise names[seplength,petlenght,....,class] and use as header"
   ]
  },
  {
   "cell_type": "code",
   "execution_count": 4,
   "metadata": {},
   "outputs": [
    {
     "data": {
      "text/html": [
       "<div>\n",
       "<style scoped>\n",
       "    .dataframe tbody tr th:only-of-type {\n",
       "        vertical-align: middle;\n",
       "    }\n",
       "\n",
       "    .dataframe tbody tr th {\n",
       "        vertical-align: top;\n",
       "    }\n",
       "\n",
       "    .dataframe thead th {\n",
       "        text-align: right;\n",
       "    }\n",
       "</style>\n",
       "<table border=\"1\" class=\"dataframe\">\n",
       "  <thead>\n",
       "    <tr style=\"text-align: right;\">\n",
       "      <th></th>\n",
       "      <th>seplength</th>\n",
       "      <th>sepwidth</th>\n",
       "      <th>petlength</th>\n",
       "      <th>petwidth</th>\n",
       "      <th>class</th>\n",
       "    </tr>\n",
       "  </thead>\n",
       "  <tbody>\n",
       "    <tr>\n",
       "      <th>0</th>\n",
       "      <td>5.1</td>\n",
       "      <td>3.5</td>\n",
       "      <td>1.4</td>\n",
       "      <td>0.2</td>\n",
       "      <td>Iris-setosa</td>\n",
       "    </tr>\n",
       "    <tr>\n",
       "      <th>1</th>\n",
       "      <td>4.9</td>\n",
       "      <td>3.0</td>\n",
       "      <td>1.4</td>\n",
       "      <td>0.2</td>\n",
       "      <td>Iris-setosa</td>\n",
       "    </tr>\n",
       "    <tr>\n",
       "      <th>2</th>\n",
       "      <td>4.7</td>\n",
       "      <td>3.2</td>\n",
       "      <td>1.3</td>\n",
       "      <td>0.2</td>\n",
       "      <td>Iris-setosa</td>\n",
       "    </tr>\n",
       "    <tr>\n",
       "      <th>3</th>\n",
       "      <td>4.6</td>\n",
       "      <td>3.1</td>\n",
       "      <td>1.5</td>\n",
       "      <td>0.2</td>\n",
       "      <td>Iris-setosa</td>\n",
       "    </tr>\n",
       "    <tr>\n",
       "      <th>4</th>\n",
       "      <td>5.0</td>\n",
       "      <td>3.6</td>\n",
       "      <td>1.4</td>\n",
       "      <td>0.2</td>\n",
       "      <td>Iris-setosa</td>\n",
       "    </tr>\n",
       "  </tbody>\n",
       "</table>\n",
       "</div>"
      ],
      "text/plain": [
       "   seplength  sepwidth  petlength  petwidth        class\n",
       "0        5.1       3.5        1.4       0.2  Iris-setosa\n",
       "1        4.9       3.0        1.4       0.2  Iris-setosa\n",
       "2        4.7       3.2        1.3       0.2  Iris-setosa\n",
       "3        4.6       3.1        1.5       0.2  Iris-setosa\n",
       "4        5.0       3.6        1.4       0.2  Iris-setosa"
      ]
     },
     "execution_count": 4,
     "metadata": {},
     "output_type": "execute_result"
    }
   ],
   "source": [
    "iris_df.head()"
   ]
  },
  {
   "cell_type": "code",
   "execution_count": 5,
   "metadata": {},
   "outputs": [],
   "source": [
    "iris_df=iris_df.sample(frac=1).reset_index(drop=True)"
   ]
  },
  {
   "cell_type": "raw",
   "metadata": {},
   "source": [
    "#Shuffle the dataframe using sample function, 1 represents get all records without fail,all of the rows corresponds to flower categories were jumbled up.reset_index(drop=True) drop the original index from pandas df,generate new indices"
   ]
  },
  {
   "cell_type": "code",
   "execution_count": 6,
   "metadata": {},
   "outputs": [
    {
     "data": {
      "text/html": [
       "<div>\n",
       "<style scoped>\n",
       "    .dataframe tbody tr th:only-of-type {\n",
       "        vertical-align: middle;\n",
       "    }\n",
       "\n",
       "    .dataframe tbody tr th {\n",
       "        vertical-align: top;\n",
       "    }\n",
       "\n",
       "    .dataframe thead th {\n",
       "        text-align: right;\n",
       "    }\n",
       "</style>\n",
       "<table border=\"1\" class=\"dataframe\">\n",
       "  <thead>\n",
       "    <tr style=\"text-align: right;\">\n",
       "      <th></th>\n",
       "      <th>seplength</th>\n",
       "      <th>sepwidth</th>\n",
       "      <th>petlength</th>\n",
       "      <th>petwidth</th>\n",
       "      <th>class</th>\n",
       "    </tr>\n",
       "  </thead>\n",
       "  <tbody>\n",
       "    <tr>\n",
       "      <th>0</th>\n",
       "      <td>4.4</td>\n",
       "      <td>3.0</td>\n",
       "      <td>1.3</td>\n",
       "      <td>0.2</td>\n",
       "      <td>Iris-setosa</td>\n",
       "    </tr>\n",
       "    <tr>\n",
       "      <th>1</th>\n",
       "      <td>6.5</td>\n",
       "      <td>3.0</td>\n",
       "      <td>5.5</td>\n",
       "      <td>1.8</td>\n",
       "      <td>Iris-virginica</td>\n",
       "    </tr>\n",
       "    <tr>\n",
       "      <th>2</th>\n",
       "      <td>6.5</td>\n",
       "      <td>3.0</td>\n",
       "      <td>5.2</td>\n",
       "      <td>2.0</td>\n",
       "      <td>Iris-virginica</td>\n",
       "    </tr>\n",
       "    <tr>\n",
       "      <th>3</th>\n",
       "      <td>5.8</td>\n",
       "      <td>2.8</td>\n",
       "      <td>5.1</td>\n",
       "      <td>2.4</td>\n",
       "      <td>Iris-virginica</td>\n",
       "    </tr>\n",
       "    <tr>\n",
       "      <th>4</th>\n",
       "      <td>6.8</td>\n",
       "      <td>3.2</td>\n",
       "      <td>5.9</td>\n",
       "      <td>2.3</td>\n",
       "      <td>Iris-virginica</td>\n",
       "    </tr>\n",
       "  </tbody>\n",
       "</table>\n",
       "</div>"
      ],
      "text/plain": [
       "   seplength  sepwidth  petlength  petwidth           class\n",
       "0        4.4       3.0        1.3       0.2     Iris-setosa\n",
       "1        6.5       3.0        5.5       1.8  Iris-virginica\n",
       "2        6.5       3.0        5.2       2.0  Iris-virginica\n",
       "3        5.8       2.8        5.1       2.4  Iris-virginica\n",
       "4        6.8       3.2        5.9       2.3  Iris-virginica"
      ]
     },
     "execution_count": 6,
     "metadata": {},
     "output_type": "execute_result"
    }
   ],
   "source": [
    "iris_df.head()"
   ]
  },
  {
   "cell_type": "code",
   "execution_count": 7,
   "metadata": {},
   "outputs": [
    {
     "data": {
      "text/plain": [
       "(150, 5)"
      ]
     },
     "execution_count": 7,
     "metadata": {},
     "output_type": "execute_result"
    }
   ],
   "source": [
    "iris_df.shape"
   ]
  },
  {
   "cell_type": "raw",
   "metadata": {},
   "source": [
    "#150 rows records,5 col-4 col was features,1 col is category/class/label"
   ]
  },
  {
   "cell_type": "markdown",
   "metadata": {},
   "source": [
    "# Preprocessing data"
   ]
  },
  {
   "cell_type": "code",
   "execution_count": 8,
   "metadata": {},
   "outputs": [
    {
     "data": {
      "text/plain": [
       "0    0\n",
       "1    2\n",
       "2    2\n",
       "3    2\n",
       "4    2\n",
       "Name: class, dtype: int32"
      ]
     },
     "execution_count": 8,
     "metadata": {},
     "output_type": "execute_result"
    }
   ],
   "source": [
    "from sklearn import preprocessing\n",
    "label_encoding=preprocessing.LabelEncoder()\n",
    "iris_df['class']=label_encoding.fit_transform(iris_df['class'].astype(str))\n",
    "iris_df['class'].head(5)"
   ]
  },
  {
   "cell_type": "raw",
   "metadata": {},
   "source": [
    "#Class col contains categories-Iris-setosa,Iris-virginica,Iris-versicolor converted to numeric int values.It is compulsory fonversion before use in ML algorithms if not in int values"
   ]
  },
  {
   "cell_type": "markdown",
   "metadata": {},
   "source": [
    "# 1. Store only features(4) in iris_df_features. Drop class column"
   ]
  },
  {
   "cell_type": "code",
   "execution_count": 9,
   "metadata": {},
   "outputs": [
    {
     "data": {
      "text/html": [
       "<div>\n",
       "<style scoped>\n",
       "    .dataframe tbody tr th:only-of-type {\n",
       "        vertical-align: middle;\n",
       "    }\n",
       "\n",
       "    .dataframe tbody tr th {\n",
       "        vertical-align: top;\n",
       "    }\n",
       "\n",
       "    .dataframe thead th {\n",
       "        text-align: right;\n",
       "    }\n",
       "</style>\n",
       "<table border=\"1\" class=\"dataframe\">\n",
       "  <thead>\n",
       "    <tr style=\"text-align: right;\">\n",
       "      <th></th>\n",
       "      <th>seplength</th>\n",
       "      <th>sepwidth</th>\n",
       "      <th>petlength</th>\n",
       "      <th>petwidth</th>\n",
       "    </tr>\n",
       "  </thead>\n",
       "  <tbody>\n",
       "    <tr>\n",
       "      <th>63</th>\n",
       "      <td>5.1</td>\n",
       "      <td>3.5</td>\n",
       "      <td>1.4</td>\n",
       "      <td>0.3</td>\n",
       "    </tr>\n",
       "    <tr>\n",
       "      <th>3</th>\n",
       "      <td>5.8</td>\n",
       "      <td>2.8</td>\n",
       "      <td>5.1</td>\n",
       "      <td>2.4</td>\n",
       "    </tr>\n",
       "    <tr>\n",
       "      <th>12</th>\n",
       "      <td>6.8</td>\n",
       "      <td>3.0</td>\n",
       "      <td>5.5</td>\n",
       "      <td>2.1</td>\n",
       "    </tr>\n",
       "    <tr>\n",
       "      <th>74</th>\n",
       "      <td>5.2</td>\n",
       "      <td>4.1</td>\n",
       "      <td>1.5</td>\n",
       "      <td>0.1</td>\n",
       "    </tr>\n",
       "    <tr>\n",
       "      <th>142</th>\n",
       "      <td>7.2</td>\n",
       "      <td>3.0</td>\n",
       "      <td>5.8</td>\n",
       "      <td>1.6</td>\n",
       "    </tr>\n",
       "  </tbody>\n",
       "</table>\n",
       "</div>"
      ],
      "text/plain": [
       "     seplength  sepwidth  petlength  petwidth\n",
       "63         5.1       3.5        1.4       0.3\n",
       "3          5.8       2.8        5.1       2.4\n",
       "12         6.8       3.0        5.5       2.1\n",
       "74         5.2       4.1        1.5       0.1\n",
       "142        7.2       3.0        5.8       1.6"
      ]
     },
     "execution_count": 9,
     "metadata": {},
     "output_type": "execute_result"
    }
   ],
   "source": [
    "iris_df_features=iris_df.drop('class',axis=1)\n",
    "iris_df_features.sample(5)"
   ]
  },
  {
   "cell_type": "markdown",
   "metadata": {},
   "source": [
    "# 2.Store class separately in iris_df_labels "
   ]
  },
  {
   "cell_type": "code",
   "execution_count": 10,
   "metadata": {},
   "outputs": [
    {
     "data": {
      "text/plain": [
       "102    1\n",
       "65     0\n",
       "68     1\n",
       "67     2\n",
       "96     2\n",
       "Name: class, dtype: int32"
      ]
     },
     "execution_count": 10,
     "metadata": {},
     "output_type": "execute_result"
    }
   ],
   "source": [
    "iris_df_labels=iris_df['class']\n",
    "iris_df_labels.sample(5)"
   ]
  },
  {
   "cell_type": "markdown",
   "metadata": {},
   "source": [
    "# Build & Train Different classification Model & Evaluating Scores \n",
    "# Helper Function"
   ]
  },
  {
   "cell_type": "code",
   "execution_count": 11,
   "metadata": {},
   "outputs": [],
   "source": [
    "def buildmodel(clustering_model,data,labels):\n",
    "    model=clustering_model(data)\n",
    "    \n",
    "    print('homo \\t compl \\t v-means \\t ARI \\t AMI \\t silhouette')\n",
    "    print(50 * '-')\n",
    "    \n",
    "    print('%.3f \\t %.3f \\t %.3f \\t %.3f \\t %.3f \\t %.3f'\n",
    "          %(metrics.homogeneity_score(labels, model.labels_),\n",
    "            metrics.completeness_score(labels, model.labels_),\n",
    "            metrics.v_measure_score(labels, model.labels_),\n",
    "            metrics.adjusted_rand_score(labels, model.labels_),\n",
    "            metrics.adjusted_mutual_info_score(labels,  model.labels_),\n",
    "            metrics.silhouette_score(data, model.labels_)))"
   ]
  },
  {
   "cell_type": "markdown",
   "metadata": {},
   "source": [
    "# Reusable helper function setup"
   ]
  },
  {
   "cell_type": "markdown",
   "metadata": {},
   "source": [
    "# 1.KMeans Function"
   ]
  },
  {
   "cell_type": "raw",
   "metadata": {},
   "source": [
    "#Large Dataset,Moderate Clusters\n",
    "#For even cluster sizes,data in the form of flat surfaces\n",
    "#Centroid based clustering algorithm."
   ]
  },
  {
   "cell_type": "code",
   "execution_count": 22,
   "metadata": {},
   "outputs": [],
   "source": [
    "def k_means(data, n_clusters=3, max_iter=1000):\n",
    "    model = KMeans(n_clusters=n_clusters, max_iter=max_iter).fit(data)\n",
    "    \n",
    "    return model"
   ]
  },
  {
   "cell_type": "markdown",
   "metadata": {},
   "source": [
    "# Build & Train model"
   ]
  },
  {
   "cell_type": "code",
   "execution_count": 13,
   "metadata": {},
   "outputs": [
    {
     "name": "stdout",
     "output_type": "stream",
     "text": [
      "homo \t compl \t v-means \t ARI \t AMI \t silhouette\n",
      "--------------------------------------------------\n",
      "0.751 \t 0.765 \t 0.758 \t 0.730 \t 0.748 \t 0.553\n"
     ]
    }
   ],
   "source": [
    "buildmodel(k_means, iris_df_features, iris_df_labels)"
   ]
  },
  {
   "cell_type": "markdown",
   "metadata": {},
   "source": [
    "# 2. Agglomerative Function"
   ]
  },
  {
   "cell_type": "raw",
   "metadata": {},
   "source": [
    "#Large Datsets,Many clusters\n",
    "#Bottom up hierarchical clustering approach- recursively merge pair of clusters starting with single point of cluster.\n",
    "#Each merge tries to minimally increase linkage distance between pair of clusters\n",
    "#In model default linkage criterion is Ward -minimize variance of clusters being merged"
   ]
  },
  {
   "cell_type": "code",
   "execution_count": 14,
   "metadata": {},
   "outputs": [],
   "source": [
    "def agglomerative(data,n_clusters=3):\n",
    "    model=AgglomerativeClustering(n_clusters=n_clusters)\n",
    "    model.fit(data)\n",
    "    return model"
   ]
  },
  {
   "cell_type": "markdown",
   "metadata": {},
   "source": [
    "# Build & Train model"
   ]
  },
  {
   "cell_type": "code",
   "execution_count": 15,
   "metadata": {},
   "outputs": [
    {
     "name": "stdout",
     "output_type": "stream",
     "text": [
      "homo \t compl \t v-means \t ARI \t AMI \t silhouette\n",
      "--------------------------------------------------\n",
      "0.761 \t 0.780 \t 0.770 \t 0.731 \t 0.758 \t 0.554\n"
     ]
    }
   ],
   "source": [
    "buildmodel(agglomerative,iris_df_features,iris_df_labels)"
   ]
  },
  {
   "cell_type": "markdown",
   "metadata": {},
   "source": [
    "# 3.DBSCAN-Density Based Spartial Clustering of Algorithms with Noise"
   ]
  },
  {
   "cell_type": "raw",
   "metadata": {},
   "source": [
    "#Large Datset,Moderate Cluster\n",
    "#Group points that are close to each other based on distance measure,min no of points\n",
    "#eps-min distance points closer than this are neighbours(All points within this max distance are considered as neighbors).\n",
    "##This value determines what we consider a dense region-smaller values are preffered(here only 4 features(4 dimensional)(for large dimensions prefer large values) ,\n",
    "#min_samples-min no.of points to form dense region"
   ]
  },
  {
   "cell_type": "code",
   "execution_count": 16,
   "metadata": {},
   "outputs": [],
   "source": [
    "def dbscan(data,eps=0.45,min_samples=4):\n",
    "    model=DBSCAN(eps=eps,min_samples=min_samples)\n",
    "    model.fit(data)\n",
    "    return model"
   ]
  },
  {
   "cell_type": "markdown",
   "metadata": {},
   "source": [
    "# Build & Train model"
   ]
  },
  {
   "cell_type": "code",
   "execution_count": 17,
   "metadata": {},
   "outputs": [
    {
     "name": "stdout",
     "output_type": "stream",
     "text": [
      "homo \t compl \t v-means \t ARI \t AMI \t silhouette\n",
      "--------------------------------------------------\n",
      "0.577 \t 0.609 \t 0.593 \t 0.508 \t 0.569 \t 0.372\n"
     ]
    }
   ],
   "source": [
    "buildmodel(dbscan,iris_df_features,iris_df_labels)"
   ]
  },
  {
   "cell_type": "raw",
   "metadata": {},
   "source": [
    "#Overall the result is not good compare to agglomerative,kmeans cluster"
   ]
  },
  {
   "cell_type": "markdown",
   "metadata": {},
   "source": [
    "# 3. Mean shift clustering"
   ]
  },
  {
   "cell_type": "raw",
   "metadata": {},
   "source": [
    "#Small datset,Many clusters\n",
    "#Mean shift clustering tries to discover the blobs in smooth cluster of data points\n",
    "##This algorithm will tries to discover original seeds from where it will starts work,original seeds of cluster are determined using binning technique.\n",
    "#Here bandwidth(SD) is hyperparameter."
   ]
  },
  {
   "cell_type": "code",
   "execution_count": 18,
   "metadata": {},
   "outputs": [],
   "source": [
    "def meanshift_fn(data,bandwidth=0.85):\n",
    "    model=MeanShift(bandwidth=bandwidth)\n",
    "    model.fit(data)\n",
    "    return model\n",
    "    "
   ]
  },
  {
   "cell_type": "markdown",
   "metadata": {},
   "source": [
    "# Build & Train model"
   ]
  },
  {
   "cell_type": "code",
   "execution_count": 19,
   "metadata": {},
   "outputs": [
    {
     "name": "stdout",
     "output_type": "stream",
     "text": [
      "homo \t compl \t v-means \t ARI \t AMI \t silhouette\n",
      "--------------------------------------------------\n",
      "0.760 \t 0.772 \t 0.766 \t 0.744 \t 0.757 \t 0.551\n"
     ]
    }
   ],
   "source": [
    "buildmodel(meanshift_fn,iris_df_features,iris_df_labels)"
   ]
  },
  {
   "cell_type": "raw",
   "metadata": {},
   "source": [
    "#Scores are similar to kmeans clustering. Here Mean Shift clustering doing little better"
   ]
  },
  {
   "cell_type": "markdown",
   "metadata": {},
   "source": [
    "# 4.BIRCH clustering-Balance Iterative Reducing and Clustering using Hierarchies"
   ]
  },
  {
   "cell_type": "raw",
   "metadata": {},
   "source": [
    "#Large Datasets,Many clusters\n",
    "#Very memory & time efficient and can deal with online streaming data"
   ]
  },
  {
   "cell_type": "code",
   "execution_count": 20,
   "metadata": {},
   "outputs": [],
   "source": [
    "def birch_fn(data,n_clusters=3):\n",
    "    model=Birch(n_clusters=n_clusters)\n",
    "    model.fit(data)\n",
    "    return model"
   ]
  },
  {
   "cell_type": "markdown",
   "metadata": {},
   "source": [
    "# Build and Train Model"
   ]
  },
  {
   "cell_type": "code",
   "execution_count": 21,
   "metadata": {},
   "outputs": [
    {
     "name": "stdout",
     "output_type": "stream",
     "text": [
      "homo \t compl \t v-means \t ARI \t AMI \t silhouette\n",
      "--------------------------------------------------\n",
      "0.738 \t 0.782 \t 0.759 \t 0.674 \t 0.735 \t 0.545\n"
     ]
    }
   ],
   "source": [
    "buildmodel(birch_fn,iris_df_features,iris_df_labels)"
   ]
  },
  {
   "cell_type": "raw",
   "metadata": {},
   "source": [
    "#Scores significantly better than other cluster models"
   ]
  },
  {
   "cell_type": "markdown",
   "metadata": {},
   "source": [
    "# 5.Affinity Propogation Clustering"
   ]
  },
  {
   "cell_type": "raw",
   "metadata": {},
   "source": [
    "#Small dataset,Many clustering\n",
    "#No need to specify n_clusters\n",
    "#Data points act as nodes of graph,which pass message to find exemplars for each cluster\n",
    "#Damping-Hyperparameter-Extent to which current value is maintained relative to the incomig values-learning rate for algorithm,\n",
    "learning rate finds whether to continue exemplar or to update new one"
   ]
  },
  {
   "cell_type": "code",
   "execution_count": 28,
   "metadata": {},
   "outputs": [],
   "source": [
    "def affinity_propagation(data,damping=0.6,max_iter=1000):\n",
    "    model=AffinityPropagation(damping=damping,max_iter=max_iter)\n",
    "    model.fit(data)\n",
    "    return model"
   ]
  },
  {
   "cell_type": "markdown",
   "metadata": {},
   "source": [
    "# Build and Train Model"
   ]
  },
  {
   "cell_type": "code",
   "execution_count": 29,
   "metadata": {},
   "outputs": [
    {
     "name": "stdout",
     "output_type": "stream",
     "text": [
      "homo \t compl \t v-means \t ARI \t AMI \t silhouette\n",
      "--------------------------------------------------\n",
      "0.851 \t 0.492 \t 0.623 \t 0.437 \t 0.480 \t 0.349\n"
     ]
    }
   ],
   "source": [
    "buildmodel(affinity_propagation,iris_df_features,iris_df_labels)"
   ]
  },
  {
   "cell_type": "raw",
   "metadata": {},
   "source": [
    "#High homogeneity score,low completeness score specify all points in the cluster belongs to same class, but not lie in same cluster."
   ]
  },
  {
   "cell_type": "markdown",
   "metadata": {},
   "source": [
    "# 6.Mini Batch KMeans Clustering"
   ]
  },
  {
   "cell_type": "raw",
   "metadata": {},
   "source": [
    "#Large Datset,Moderate Clusters\n",
    "#perform kmeans on randomly sampled subset.\n",
    "#Iteratively performed on batches called mini batches.\n",
    "#Run faster than original KMeans have large dataset"
   ]
  },
  {
   "cell_type": "code",
   "execution_count": 30,
   "metadata": {},
   "outputs": [],
   "source": [
    "def mini_batch_kmeans(data,n_clusters=3,max_iter=1000):\n",
    "    model=MiniBatchKMeans(n_clusters=n_clusters,max_iter=max_iter,batch_size=20)\n",
    "    model.fit(data)\n",
    "    return model"
   ]
  },
  {
   "cell_type": "code",
   "execution_count": 31,
   "metadata": {},
   "outputs": [
    {
     "name": "stdout",
     "output_type": "stream",
     "text": [
      "homo \t compl \t v-means \t ARI \t AMI \t silhouette\n",
      "--------------------------------------------------\n",
      "0.736 \t 0.747 \t 0.742 \t 0.716 \t 0.733 \t 0.551\n"
     ]
    }
   ],
   "source": [
    "buildmodel(mini_batch_kmeans,iris_df_features,iris_df_labels)"
   ]
  },
  {
   "cell_type": "raw",
   "metadata": {},
   "source": [
    "#All scores are close to kmeans,but little sight worse than full kmeans"
   ]
  },
  {
   "cell_type": "markdown",
   "metadata": {},
   "source": [
    "# 7. Spectral Clustering"
   ]
  },
  {
   "cell_type": "raw",
   "metadata": {},
   "source": [
    "#Medium size datset,few clusters\n",
    "#Intuitive work with image\n",
    "#Even cluster size\n",
    "#Fine for manifolds-Complex non linear data\n",
    "#Relies on distance b/w points\n",
    "#Creates affinity matrix on i/p data(precomputed similarity matrix)\n",
    "#Eigen value applies to convert to low dimensionality embedding\n",
    "#DBSCAN is special case of spectral clustering,KMeans is spectral clustering too"
   ]
  },
  {
   "cell_type": "code",
   "execution_count": 32,
   "metadata": {},
   "outputs": [],
   "source": [
    "from sklearn.cluster import SpectralClustering"
   ]
  },
  {
   "cell_type": "raw",
   "metadata": {},
   "source": [
    "#Do not use raw data,precomputed matrix data format only to use"
   ]
  },
  {
   "cell_type": "code",
   "execution_count": 40,
   "metadata": {},
   "outputs": [],
   "source": [
    "#Self similarity(similarity of datapoints itself)\n",
    "SS=1000"
   ]
  },
  {
   "cell_type": "code",
   "execution_count": 41,
   "metadata": {},
   "outputs": [],
   "source": [
    "#IntraCluster Similarity(Points belong to same cluster)\n",
    "IS=10"
   ]
  },
  {
   "cell_type": "code",
   "execution_count": 42,
   "metadata": {},
   "outputs": [],
   "source": [
    "#Low similarity(Points lie on diff clusters)\n",
    "LS=0.01"
   ]
  },
  {
   "cell_type": "code",
   "execution_count": null,
   "metadata": {},
   "outputs": [],
   "source": []
  }
 ],
 "metadata": {
  "kernelspec": {
   "display_name": "Python 3",
   "language": "python",
   "name": "python3"
  },
  "language_info": {
   "codemirror_mode": {
    "name": "ipython",
    "version": 3
   },
   "file_extension": ".py",
   "mimetype": "text/x-python",
   "name": "python",
   "nbconvert_exporter": "python",
   "pygments_lexer": "ipython3",
   "version": "3.7.2"
  }
 },
 "nbformat": 4,
 "nbformat_minor": 2
}
