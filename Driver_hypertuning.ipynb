{
 "cells": [
  {
   "cell_type": "code",
   "execution_count": 1,
   "metadata": {},
   "outputs": [],
   "source": [
    "import pandas as pd\n",
    "import numpy as np\n",
    "import matplotlib.pyplot as plt"
   ]
  },
  {
   "cell_type": "code",
   "execution_count": 2,
   "metadata": {},
   "outputs": [],
   "source": [
    "from sklearn import metrics\n",
    "#Select best possible model based on silhou score who has high value near to 1\n",
    "from sklearn.metrics import silhouette_score\n",
    "#To configure diff values for hyperparameters when we train our model\n",
    "from sklearn.model_selection import ParameterGrid\n",
    "\n",
    "from sklearn.cluster import KMeans\n",
    "from sklearn.cluster import DBSCAN\n",
    "from sklearn.cluster import MeanShift"
   ]
  },
  {
   "cell_type": "markdown",
   "metadata": {},
   "source": [
    "# Load Dataset"
   ]
  },
  {
   "cell_type": "code",
   "execution_count": 3,
   "metadata": {},
   "outputs": [
    {
     "data": {
      "text/html": [
       "<div>\n",
       "<style scoped>\n",
       "    .dataframe tbody tr th:only-of-type {\n",
       "        vertical-align: middle;\n",
       "    }\n",
       "\n",
       "    .dataframe tbody tr th {\n",
       "        vertical-align: top;\n",
       "    }\n",
       "\n",
       "    .dataframe thead th {\n",
       "        text-align: right;\n",
       "    }\n",
       "</style>\n",
       "<table border=\"1\" class=\"dataframe\">\n",
       "  <thead>\n",
       "    <tr style=\"text-align: right;\">\n",
       "      <th></th>\n",
       "      <th>Driver_ID</th>\n",
       "      <th>Distance_Feature</th>\n",
       "      <th>Speeding_Feature</th>\n",
       "    </tr>\n",
       "  </thead>\n",
       "  <tbody>\n",
       "    <tr>\n",
       "      <th>0</th>\n",
       "      <td>3423311935</td>\n",
       "      <td>71.24</td>\n",
       "      <td>28</td>\n",
       "    </tr>\n",
       "    <tr>\n",
       "      <th>1</th>\n",
       "      <td>3423313212</td>\n",
       "      <td>52.53</td>\n",
       "      <td>25</td>\n",
       "    </tr>\n",
       "    <tr>\n",
       "      <th>2</th>\n",
       "      <td>3423313724</td>\n",
       "      <td>64.54</td>\n",
       "      <td>27</td>\n",
       "    </tr>\n",
       "    <tr>\n",
       "      <th>3</th>\n",
       "      <td>3423311373</td>\n",
       "      <td>55.69</td>\n",
       "      <td>22</td>\n",
       "    </tr>\n",
       "    <tr>\n",
       "      <th>4</th>\n",
       "      <td>3423310999</td>\n",
       "      <td>54.58</td>\n",
       "      <td>25</td>\n",
       "    </tr>\n",
       "  </tbody>\n",
       "</table>\n",
       "</div>"
      ],
      "text/plain": [
       "    Driver_ID  Distance_Feature  Speeding_Feature\n",
       "0  3423311935             71.24                28\n",
       "1  3423313212             52.53                25\n",
       "2  3423313724             64.54                27\n",
       "3  3423311373             55.69                22\n",
       "4  3423310999             54.58                25"
      ]
     },
     "execution_count": 3,
     "metadata": {},
     "output_type": "execute_result"
    }
   ],
   "source": [
    "driver_df=pd.read_csv(\"C:\\\\Users\\\\admin\\\\Dropbox\\\\DS\\\\6.building-clustering-models-scikit-learn\\\\datasets\\\\driver_details.csv\")\n",
    "driver_df.head()"
   ]
  },
  {
   "cell_type": "code",
   "execution_count": 4,
   "metadata": {},
   "outputs": [
    {
     "data": {
      "text/plain": [
       "(4000, 3)"
      ]
     },
     "execution_count": 4,
     "metadata": {},
     "output_type": "execute_result"
    }
   ],
   "source": [
    "driver_df.shape"
   ]
  },
  {
   "cell_type": "raw",
   "metadata": {},
   "source": [
    "#4000 rows records, 3 col-2 col is features used to score drivers"
   ]
  },
  {
   "cell_type": "markdown",
   "metadata": {},
   "source": [
    "# Cleaning Data"
   ]
  },
  {
   "cell_type": "code",
   "execution_count": 5,
   "metadata": {},
   "outputs": [
    {
     "data": {
      "text/html": [
       "<div>\n",
       "<style scoped>\n",
       "    .dataframe tbody tr th:only-of-type {\n",
       "        vertical-align: middle;\n",
       "    }\n",
       "\n",
       "    .dataframe tbody tr th {\n",
       "        vertical-align: top;\n",
       "    }\n",
       "\n",
       "    .dataframe thead th {\n",
       "        text-align: right;\n",
       "    }\n",
       "</style>\n",
       "<table border=\"1\" class=\"dataframe\">\n",
       "  <thead>\n",
       "    <tr style=\"text-align: right;\">\n",
       "      <th></th>\n",
       "      <th>Driver_ID</th>\n",
       "      <th>Distance_Feature</th>\n",
       "      <th>Speeding_Feature</th>\n",
       "    </tr>\n",
       "  </thead>\n",
       "  <tbody>\n",
       "  </tbody>\n",
       "</table>\n",
       "</div>"
      ],
      "text/plain": [
       "Empty DataFrame\n",
       "Columns: [Driver_ID, Distance_Feature, Speeding_Feature]\n",
       "Index: []"
      ]
     },
     "execution_count": 5,
     "metadata": {},
     "output_type": "execute_result"
    }
   ],
   "source": [
    "driver_df[driver_df.isnull().any(axis=1)]"
   ]
  },
  {
   "cell_type": "raw",
   "metadata": {},
   "source": [
    "#There are no null values present, so no need to cleaning data"
   ]
  },
  {
   "cell_type": "markdown",
   "metadata": {},
   "source": [
    "# Explore Data\n"
   ]
  },
  {
   "cell_type": "code",
   "execution_count": 6,
   "metadata": {},
   "outputs": [
    {
     "data": {
      "text/html": [
       "<div>\n",
       "<style scoped>\n",
       "    .dataframe tbody tr th:only-of-type {\n",
       "        vertical-align: middle;\n",
       "    }\n",
       "\n",
       "    .dataframe tbody tr th {\n",
       "        vertical-align: top;\n",
       "    }\n",
       "\n",
       "    .dataframe thead th {\n",
       "        text-align: right;\n",
       "    }\n",
       "</style>\n",
       "<table border=\"1\" class=\"dataframe\">\n",
       "  <thead>\n",
       "    <tr style=\"text-align: right;\">\n",
       "      <th></th>\n",
       "      <th>Driver_ID</th>\n",
       "      <th>Distance_Feature</th>\n",
       "      <th>Speeding_Feature</th>\n",
       "    </tr>\n",
       "  </thead>\n",
       "  <tbody>\n",
       "    <tr>\n",
       "      <th>count</th>\n",
       "      <td>4.000000e+03</td>\n",
       "      <td>4000.000000</td>\n",
       "      <td>4000.000000</td>\n",
       "    </tr>\n",
       "    <tr>\n",
       "      <th>mean</th>\n",
       "      <td>3.423312e+09</td>\n",
       "      <td>76.041522</td>\n",
       "      <td>10.721000</td>\n",
       "    </tr>\n",
       "    <tr>\n",
       "      <th>std</th>\n",
       "      <td>1.154845e+03</td>\n",
       "      <td>53.469563</td>\n",
       "      <td>13.708543</td>\n",
       "    </tr>\n",
       "    <tr>\n",
       "      <th>min</th>\n",
       "      <td>3.423310e+09</td>\n",
       "      <td>15.520000</td>\n",
       "      <td>0.000000</td>\n",
       "    </tr>\n",
       "    <tr>\n",
       "      <th>25%</th>\n",
       "      <td>3.423311e+09</td>\n",
       "      <td>45.247500</td>\n",
       "      <td>4.000000</td>\n",
       "    </tr>\n",
       "    <tr>\n",
       "      <th>50%</th>\n",
       "      <td>3.423312e+09</td>\n",
       "      <td>53.330000</td>\n",
       "      <td>6.000000</td>\n",
       "    </tr>\n",
       "    <tr>\n",
       "      <th>75%</th>\n",
       "      <td>3.423313e+09</td>\n",
       "      <td>65.632500</td>\n",
       "      <td>9.000000</td>\n",
       "    </tr>\n",
       "    <tr>\n",
       "      <th>max</th>\n",
       "      <td>3.423314e+09</td>\n",
       "      <td>244.790000</td>\n",
       "      <td>100.000000</td>\n",
       "    </tr>\n",
       "  </tbody>\n",
       "</table>\n",
       "</div>"
      ],
      "text/plain": [
       "          Driver_ID  Distance_Feature  Speeding_Feature\n",
       "count  4.000000e+03       4000.000000       4000.000000\n",
       "mean   3.423312e+09         76.041522         10.721000\n",
       "std    1.154845e+03         53.469563         13.708543\n",
       "min    3.423310e+09         15.520000          0.000000\n",
       "25%    3.423311e+09         45.247500          4.000000\n",
       "50%    3.423312e+09         53.330000          6.000000\n",
       "75%    3.423313e+09         65.632500          9.000000\n",
       "max    3.423314e+09        244.790000        100.000000"
      ]
     },
     "execution_count": 6,
     "metadata": {},
     "output_type": "execute_result"
    }
   ],
   "source": [
    "driver_df.describe()"
   ]
  },
  {
   "cell_type": "raw",
   "metadata": {},
   "source": [
    "#Statistical overview of data in df"
   ]
  },
  {
   "cell_type": "code",
   "execution_count": 7,
   "metadata": {},
   "outputs": [],
   "source": [
    "driver_features=driver_df.drop('Driver_ID',axis=1)"
   ]
  },
  {
   "cell_type": "raw",
   "metadata": {},
   "source": [
    "#For our work we dont need driver_id,we decide to drop the col,store in var driver_features"
   ]
  },
  {
   "cell_type": "markdown",
   "metadata": {},
   "source": [
    "# 1.Perform Hyperparameter Tuning for KMeans Clustering(n_clusters)"
   ]
  },
  {
   "cell_type": "raw",
   "metadata": {},
   "source": [
    "#What is the right number of clusters to this data?\n"
   ]
  },
  {
   "cell_type": "code",
   "execution_count": 8,
   "metadata": {},
   "outputs": [],
   "source": [
    "parameters={'n_clusters':[2,3,4,5,10,20,30]}\n",
    "parameter_grid=ParameterGrid(parameters)"
   ]
  },
  {
   "cell_type": "raw",
   "metadata": {},
   "source": [
    "#Set n_cluster with list of some values specified,Pass that parameters to ParameterGrid()"
   ]
  },
  {
   "cell_type": "code",
   "execution_count": 9,
   "metadata": {},
   "outputs": [
    {
     "data": {
      "text/plain": [
       "[{'n_clusters': 2},\n",
       " {'n_clusters': 3},\n",
       " {'n_clusters': 4},\n",
       " {'n_clusters': 5},\n",
       " {'n_clusters': 10},\n",
       " {'n_clusters': 20},\n",
       " {'n_clusters': 30}]"
      ]
     },
     "execution_count": 9,
     "metadata": {},
     "output_type": "execute_result"
    }
   ],
   "source": [
    "list(parameter_grid)"
   ]
  },
  {
   "cell_type": "raw",
   "metadata": {},
   "source": [
    "#How many models will be trained,with what hyperparameter values.We evaluate 7 diff clustering models for all of diff values of K"
   ]
  },
  {
   "cell_type": "raw",
   "metadata": {},
   "source": [
    "#After we trained model we have to find that model which has best silhouette score.set best score to -1,Instantiate KMeans estimator."
   ]
  },
  {
   "cell_type": "code",
   "execution_count": 10,
   "metadata": {},
   "outputs": [],
   "source": [
    "best_score=-1\n",
    "model=KMeans()"
   ]
  },
  {
   "cell_type": "markdown",
   "metadata": {},
   "source": [
    "# Train the model have different number of clusters\n",
    "Tweaking parameter is n_clusters:"
   ]
  },
  {
   "cell_type": "code",
   "execution_count": 11,
   "metadata": {},
   "outputs": [
    {
     "name": "stdout",
     "output_type": "stream",
     "text": [
      "parameter:  {'n_clusters': 2} score:  0.8490223286225532\n",
      "parameter:  {'n_clusters': 3} score:  0.8231396834167266\n",
      "parameter:  {'n_clusters': 4} score:  0.5907475009381601\n",
      "parameter:  {'n_clusters': 5} score:  0.5126744507383274\n",
      "parameter:  {'n_clusters': 10} score:  0.435641336684125\n",
      "parameter:  {'n_clusters': 20} score:  0.3858687740340374\n",
      "parameter:  {'n_clusters': 30} score:  0.3420458682192376\n"
     ]
    }
   ],
   "source": [
    "#We will get number of clusters/hyperparameter from parameter_grid\n",
    "for g in parameter_grid:\n",
    "    #Set hyperparameters calling model.set_params,pass in g\n",
    "    model.set_params(**g)\n",
    "    model.fit(driver_features)\n",
    "    #Compute silhouette score of clustering\n",
    "    ss=metrics.silhouette_score(driver_features,model.labels_)\n",
    "    #Printout parameter we used,& current silhouette score\n",
    "    print('parameter: ',g, 'score: ',ss)\n",
    "    #If silhouette score(ss) is better than best_score,store this as best_grid,best_ss_score\n",
    "    if ss>best_score:\n",
    "        best_score=ss\n",
    "        best_grid=g"
   ]
  },
  {
   "cell_type": "code",
   "execution_count": 12,
   "metadata": {},
   "outputs": [
    {
     "data": {
      "text/plain": [
       "{'n_clusters': 2}"
      ]
     },
     "execution_count": 12,
     "metadata": {},
     "output_type": "execute_result"
    }
   ],
   "source": [
    "best_grid"
   ]
  },
  {
   "cell_type": "raw",
   "metadata": {},
   "source": [
    "#silhouette score is high score 0.84, so n_clusters partioned 2."
   ]
  },
  {
   "cell_type": "markdown",
   "metadata": {},
   "source": [
    "# Visualize the 2 features using matplotlib"
   ]
  },
  {
   "cell_type": "code",
   "execution_count": 13,
   "metadata": {},
   "outputs": [
    {
     "data": {
      "text/plain": [
       "Text(0, 0.5, 'Speeding features')"
      ]
     },
     "execution_count": 13,
     "metadata": {},
     "output_type": "execute_result"
    },
    {
     "data": {
      "image/png": "[encoded data removed]",
      "text/plain": [
       "<Figure size 864x576 with 1 Axes>"
      ]
     },
     "metadata": {
      "needs_background": "light"
     },
     "output_type": "display_data"
    }
   ],
   "source": [
    "fig,ax=plt.subplots(figsize=(12,8))\n",
    "\n",
    "plt.scatter(driver_features['Distance_Feature'],driver_features['Speeding_Feature'],s=250)\n",
    "plt.xlabel('Distance Features')\n",
    "plt.ylabel('Speeding features')"
   ]
  },
  {
   "cell_type": "markdown",
   "metadata": {},
   "source": [
    "# 2.Hyperparameter tuning for DBSCAN\n",
    "Parameters-eps:minimum distance for points neigbors,min_samples:min points req to form dense region"
   ]
  },
  {
   "cell_type": "code",
   "execution_count": 14,
   "metadata": {},
   "outputs": [
    {
     "data": {
      "text/plain": [
       "[{'eps': 0.9, 'min_samples': 5},\n",
       " {'eps': 0.9, 'min_samples': 7},\n",
       " {'eps': 0.9, 'min_samples': 10},\n",
       " {'eps': 0.9, 'min_samples': 12},\n",
       " {'eps': 1.0, 'min_samples': 5},\n",
       " {'eps': 1.0, 'min_samples': 7},\n",
       " {'eps': 1.0, 'min_samples': 10},\n",
       " {'eps': 1.0, 'min_samples': 12},\n",
       " {'eps': 5.0, 'min_samples': 5},\n",
       " {'eps': 5.0, 'min_samples': 7},\n",
       " {'eps': 5.0, 'min_samples': 10},\n",
       " {'eps': 5.0, 'min_samples': 12},\n",
       " {'eps': 10.0, 'min_samples': 5},\n",
       " {'eps': 10.0, 'min_samples': 7},\n",
       " {'eps': 10.0, 'min_samples': 10},\n",
       " {'eps': 10.0, 'min_samples': 12},\n",
       " {'eps': 12.0, 'min_samples': 5},\n",
       " {'eps': 12.0, 'min_samples': 7},\n",
       " {'eps': 12.0, 'min_samples': 10},\n",
       " {'eps': 12.0, 'min_samples': 12},\n",
       " {'eps': 14.0, 'min_samples': 5},\n",
       " {'eps': 14.0, 'min_samples': 7},\n",
       " {'eps': 14.0, 'min_samples': 10},\n",
       " {'eps': 14.0, 'min_samples': 12},\n",
       " {'eps': 20.0, 'min_samples': 5},\n",
       " {'eps': 20.0, 'min_samples': 7},\n",
       " {'eps': 20.0, 'min_samples': 10},\n",
       " {'eps': 20.0, 'min_samples': 12}]"
      ]
     },
     "execution_count": 14,
     "metadata": {},
     "output_type": "execute_result"
    }
   ],
   "source": [
    "#Set range of values for eps,min_samples parameter pass to parametergrid()\n",
    "parameters={'eps':[0.9,1.0,5.0,10.0,12.0,14.0,20.0],\n",
    "            'min_samples':[5,7,10,12]}\n",
    "parameter_grid=ParameterGrid(parameters)\n",
    "list(parameter_grid)"
   ]
  },
  {
   "cell_type": "raw",
   "metadata": {},
   "source": [
    "#List contains each value of eps and possible combination of min_sample values.\n",
    "#Get Trained model for every combination of hyperparameter values."
   ]
  },
  {
   "cell_type": "markdown",
   "metadata": {},
   "source": [
    "# Use silhouette score to evaluate this model"
   ]
  },
  {
   "cell_type": "code",
   "execution_count": 15,
   "metadata": {},
   "outputs": [],
   "source": [
    "model=DBSCAN()\n",
    "best_score=-1"
   ]
  },
  {
   "cell_type": "raw",
   "metadata": {},
   "source": [
    "#Instantiate DBSCAN estimator,best score is -1"
   ]
  },
  {
   "cell_type": "code",
   "execution_count": 16,
   "metadata": {},
   "outputs": [
    {
     "name": "stdout",
     "output_type": "stream",
     "text": [
      "parameter:  {'eps': 0.9, 'min_samples': 5} score:  -0.6057173612292268\n",
      "parameter:  {'eps': 0.9, 'min_samples': 7} score:  -0.4265046999507063\n",
      "parameter:  {'eps': 0.9, 'min_samples': 10} score:  -0.39254168253371013\n",
      "parameter:  {'eps': 0.9, 'min_samples': 12} score:  -0.4286838741223884\n",
      "parameter:  {'eps': 1.0, 'min_samples': 5} score:  -0.6155746493060738\n",
      "parameter:  {'eps': 1.0, 'min_samples': 7} score:  -0.41637001640330673\n",
      "parameter:  {'eps': 1.0, 'min_samples': 10} score:  -0.3837814631696031\n",
      "parameter:  {'eps': 1.0, 'min_samples': 12} score:  -0.38648235283744914\n",
      "parameter:  {'eps': 5.0, 'min_samples': 5} score:  0.31011275260225\n",
      "parameter:  {'eps': 5.0, 'min_samples': 7} score:  0.7820011223700856\n",
      "parameter:  {'eps': 5.0, 'min_samples': 10} score:  0.7974222681120255\n",
      "parameter:  {'eps': 5.0, 'min_samples': 12} score:  0.7914367881923341\n",
      "parameter:  {'eps': 10.0, 'min_samples': 5} score:  0.7598056658175874\n",
      "parameter:  {'eps': 10.0, 'min_samples': 7} score:  0.8157570071704705\n",
      "parameter:  {'eps': 10.0, 'min_samples': 10} score:  0.8107405850782263\n",
      "parameter:  {'eps': 10.0, 'min_samples': 12} score:  0.7826641175724478\n",
      "parameter:  {'eps': 12.0, 'min_samples': 5} score:  0.8082887021398691\n",
      "parameter:  {'eps': 12.0, 'min_samples': 7} score:  0.8006933163754029\n",
      "parameter:  {'eps': 12.0, 'min_samples': 10} score:  0.8177778536465214\n",
      "parameter:  {'eps': 12.0, 'min_samples': 12} score:  0.8155661587264617\n",
      "parameter:  {'eps': 14.0, 'min_samples': 5} score:  0.8111072866552332\n",
      "parameter:  {'eps': 14.0, 'min_samples': 7} score:  0.8121719747215577\n",
      "parameter:  {'eps': 14.0, 'min_samples': 10} score:  0.8029471072047811\n",
      "parameter:  {'eps': 14.0, 'min_samples': 12} score:  0.8178938395610874\n",
      "parameter:  {'eps': 20.0, 'min_samples': 5} score:  0.8490223286225532\n",
      "parameter:  {'eps': 20.0, 'min_samples': 7} score:  0.8490223286225532\n",
      "parameter:  {'eps': 20.0, 'min_samples': 10} score:  0.8192119040131286\n",
      "parameter:  {'eps': 20.0, 'min_samples': 12} score:  0.8156567891999053\n"
     ]
    }
   ],
   "source": [
    "#Run a loop for all hyperparameter combination in parameter_grid\n",
    "for g in parameter_grid:\n",
    "    #call set_params to assign these hyperparameters to our model\n",
    "    model.set_params(**g)\n",
    "    #call fit for drivers data\n",
    "    model.fit(driver_features)\n",
    "    #Once model has evaluated clusters your data,calculate silhouette score and print\n",
    "    ss=metrics.silhouette_score(driver_features,model.labels_)\n",
    "    print('parameter: ',g,'score: ',ss)\n",
    "    #If silhoueets score(SS) is greater than best_score,store result in best_score,best_grid\n",
    "    if ss>best_score:\n",
    "        best_score=ss\n",
    "        best_grid=g\n",
    "    "
   ]
  },
  {
   "cell_type": "code",
   "execution_count": 17,
   "metadata": {},
   "outputs": [
    {
     "data": {
      "text/plain": [
       "{'eps': 20.0, 'min_samples': 5}"
      ]
     },
     "execution_count": 17,
     "metadata": {},
     "output_type": "execute_result"
    }
   ],
   "source": [
    "best_grid"
   ]
  },
  {
   "cell_type": "raw",
   "metadata": {},
   "source": [
    "#Get best grid parameters based on ss silhouette score"
   ]
  },
  {
   "cell_type": "markdown",
   "metadata": {},
   "source": [
    "# Perform DBSCAN clustering using above values"
   ]
  },
  {
   "cell_type": "code",
   "execution_count": 18,
   "metadata": {},
   "outputs": [
    {
     "data": {
      "text/plain": [
       "DBSCAN(algorithm='auto', eps=20.0, leaf_size=30, metric='euclidean',\n",
       "       metric_params=None, min_samples=5, n_jobs=None, p=None)"
      ]
     },
     "execution_count": 18,
     "metadata": {},
     "output_type": "execute_result"
    }
   ],
   "source": [
    "model.set_params(**best_grid)\n",
    "model.fit(driver_features)"
   ]
  },
  {
   "cell_type": "raw",
   "metadata": {},
   "source": [
    "#DBSCAN does not require to specify n_cluster in upfront"
   ]
  },
  {
   "cell_type": "code",
   "execution_count": 26,
   "metadata": {},
   "outputs": [
    {
     "data": {
      "text/plain": [
       "4000"
      ]
     },
     "execution_count": 26,
     "metadata": {},
     "output_type": "execute_result"
    }
   ],
   "source": [
    "len(model.labels_)"
   ]
  },
  {
   "cell_type": "raw",
   "metadata": {},
   "source": [
    "#length of labels generated by model i.e total count\n",
    "#Each data point associated with cluster labels associated with it.DBSCAN is density based algorithm,which is good at detecting outliers and noisy data.\n",
    "#Noisy data points have negative labels(-1) and other points have positive labels corresponding to clusters"
   ]
  },
  {
   "cell_type": "markdown",
   "metadata": {},
   "source": [
    "# Find n_clusters:"
   ]
  },
  {
   "cell_type": "raw",
   "metadata": {},
   "source": [
    "#Iterate through all of the labels assigned by DBSCAN clustering to find no of unique values"
   ]
  },
  {
   "cell_type": "code",
   "execution_count": 27,
   "metadata": {},
   "outputs": [
    {
     "data": {
      "text/plain": [
       "2"
      ]
     },
     "execution_count": 27,
     "metadata": {},
     "output_type": "execute_result"
    }
   ],
   "source": [
    "n_clusters=len(set(model.labels_))-(1 if -1 in model.labels_ else 0)\n",
    "n_clusters"
   ]
  },
  {
   "cell_type": "raw",
   "metadata": {},
   "source": [
    "#To make a set of all of the labels,length of the set will give no of clusters,remember -1 is also available in label.Subtract -1 label from the set."
   ]
  },
  {
   "cell_type": "raw",
   "metadata": {},
   "source": [
    "#DBSCAN returns 2 cluster is best for this data"
   ]
  },
  {
   "cell_type": "code",
   "execution_count": 28,
   "metadata": {},
   "outputs": [
    {
     "data": {
      "text/plain": [
       "0"
      ]
     },
     "execution_count": 28,
     "metadata": {},
     "output_type": "execute_result"
    }
   ],
   "source": [
    "n_noise=list(model.labels_).count(-1)\n",
    "n_noise"
   ]
  },
  {
   "cell_type": "raw",
   "metadata": {},
   "source": [
    "#Count no of noisy labels in list of labels generated by model."
   ]
  },
  {
   "cell_type": "raw",
   "metadata": {},
   "source": [
    "#For this clustering model, eps value is 20,min_sample is 5 has no noisy labels,detect clustering no's @ 2"
   ]
  },
  {
   "cell_type": "markdown",
   "metadata": {},
   "source": [
    "# Another Hyperparameters"
   ]
  },
  {
   "cell_type": "code",
   "execution_count": 31,
   "metadata": {},
   "outputs": [
    {
     "name": "stdout",
     "output_type": "stream",
     "text": [
      "n_clusters 7\n",
      "n_noise 117\n"
     ]
    }
   ],
   "source": [
    "#Other parameter in another_grid to apply value(Not good silhoeutte score in clustering model)\n",
    "another_grid={'eps':5.0,'min_samples':5}\n",
    "\n",
    "#Assign these parameters to DBSCAN model another_grid,call fit the driver_features\n",
    "model.set_params(**another_grid)\n",
    "model.fit(driver_features)\n",
    "\n",
    "#Find n_clusters by set of labels\n",
    "n_clusters=len(set(model.labels_))-(1 if -1 in model.labels_ else 0)\n",
    "print('n_clusters',n_clusters)\n",
    "\n",
    "#Find noisy/outlier points in list of labels\n",
    "n_noise=list(model.labels_).count(-1)\n",
    "print('n_noise',n_noise)"
   ]
  },
  {
   "cell_type": "raw",
   "metadata": {},
   "source": [
    "#with smaller value of eps there are many more clusters,many more noisy/outlier points"
   ]
  },
  {
   "cell_type": "code",
   "execution_count": 33,
   "metadata": {},
   "outputs": [
    {
     "name": "stdout",
     "output_type": "stream",
     "text": [
      "n_clusters 3\n",
      "n_noise 157\n"
     ]
    }
   ],
   "source": [
    "#Other parameter in another_grid to apply value(Not good silhoeutte score in clustering model)\n",
    "another_grid={'eps':5.0,'min_samples':7}\n",
    "\n",
    "#Assign these parameters to DBSCAN model another_grid,call fit the driver_features\n",
    "model.set_params(**another_grid)\n",
    "model.fit(driver_features)\n",
    "\n",
    "#Find n_clusters by set of labels\n",
    "n_clusters=len(set(model.labels_))-(1 if -1 in model.labels_ else 0)\n",
    "print('n_clusters',n_clusters)\n",
    "\n",
    "#Find noisy/outlier points in list of labels\n",
    "n_noise=list(model.labels_).count(-1)\n",
    "print('n_noise',n_noise)"
   ]
  },
  {
   "cell_type": "raw",
   "metadata": {},
   "source": [
    "#Incresing min_smaples to form dense region, results decreasing clusters formed, because noisy points(outlier points not form clusters) also increased to 157."
   ]
  },
  {
   "cell_type": "markdown",
   "metadata": {},
   "source": [
    "# 3.Hyperparameter Tuning for Mean Shift clustering\n",
    "Parameter is bandwidth(SD) of kernel"
   ]
  },
  {
   "cell_type": "raw",
   "metadata": {},
   "source": [
    "#We dont instantiate mean shift clustering and call fit to driver_features.\n",
    "#Use estimate_bandwidth() from scikit library to calculate best possible bandwidth for our data\n",
    "#Time taken to calsulate best bandwidth is quadratic in number of samples"
   ]
  },
  {
   "cell_type": "code",
   "execution_count": 34,
   "metadata": {},
   "outputs": [
    {
     "data": {
      "text/plain": [
       "33.960524729584314"
      ]
     },
     "execution_count": 34,
     "metadata": {},
     "output_type": "execute_result"
    }
   ],
   "source": [
    "from sklearn.cluster import estimate_bandwidth\n",
    "estimate_bandwidth(driver_features)\n"
   ]
  },
  {
   "cell_type": "markdown",
   "metadata": {},
   "source": [
    "# Peroform Mean Shift clustering using above value"
   ]
  },
  {
   "cell_type": "code",
   "execution_count": 36,
   "metadata": {},
   "outputs": [
    {
     "data": {
      "text/plain": [
       "0.8231396834167266"
      ]
     },
     "execution_count": 36,
     "metadata": {},
     "output_type": "execute_result"
    }
   ],
   "source": [
    "#Instantiate estimator\n",
    "model=MeanShift(bandwidth=estimate_bandwidth(driver_features))\n",
    "model.fit(driver_features)\n",
    "#Calculate silhouette score wheteher it is good/bad(high value ss is best)\n",
    "metrics.silhouette_score(driver_features,model.labels_)"
   ]
  },
  {
   "cell_type": "raw",
   "metadata": {},
   "source": [
    "#Silhouette Score above 80% is good for model with best bandwidth hyperparameter."
   ]
  },
  {
   "cell_type": "code",
   "execution_count": null,
   "metadata": {},
   "outputs": [],
   "source": []
  }
 ],
 "metadata": {
  "kernelspec": {
   "display_name": "Python 3",
   "language": "python",
   "name": "python3"
  },
  "language_info": {
   "codemirror_mode": {
    "name": "ipython",
    "version": 3
   },
   "file_extension": ".py",
   "mimetype": "text/x-python",
   "name": "python",
   "nbconvert_exporter": "python",
   "pygments_lexer": "ipython3",
   "version": "3.7.2"
  }
 },
 "nbformat": 4,
 "nbformat_minor": 2
}
